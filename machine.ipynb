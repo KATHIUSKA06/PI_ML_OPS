{
 "cells": [
  {
   "cell_type": "code",
   "execution_count": 1,
   "metadata": {},
   "outputs": [],
   "source": [
    "import pandas as pd\n",
    "import numpy as np\n",
    "import matplotlib.pyplot as plt\n",
    "from collections import Counter\n",
    "import seaborn as sns\n",
    "import warnings\n",
    "from surprise import Dataset\n",
    "from surprise import Reader\n",
    "from surprise.model_selection import train_test_split\n",
    "import pyarrow.parquet as pq\n",
    "from surprise import SVD\n",
    "from surprise import accuracy\n",
    "import pickle"
   ]
  },
  {
   "cell_type": "code",
   "execution_count": 2,
   "metadata": {},
   "outputs": [],
   "source": [
    "games=pd.read_parquet(\"games.parquet\")\n",
    "#items=pd.read_parquet(\"items.parquet\")\n",
    "reviews=pd.read_parquet(\"reviews.parquet\")"
   ]
  },
  {
   "cell_type": "code",
   "execution_count": 3,
   "metadata": {},
   "outputs": [],
   "source": [
    "merged_df = pd.merge(reviews[['item_id', 'user_id', 'sentiment_analysis',\"recommend\"]], games[['app_name',\"item_id\"]], left_on='item_id', right_on=\"item_id\")"
   ]
  },
  {
   "cell_type": "code",
   "execution_count": 59,
   "metadata": {},
   "outputs": [
    {
     "data": {
      "text/html": [
       "<div>\n",
       "<style scoped>\n",
       "    .dataframe tbody tr th:only-of-type {\n",
       "        vertical-align: middle;\n",
       "    }\n",
       "\n",
       "    .dataframe tbody tr th {\n",
       "        vertical-align: top;\n",
       "    }\n",
       "\n",
       "    .dataframe thead th {\n",
       "        text-align: right;\n",
       "    }\n",
       "</style>\n",
       "<table border=\"1\" class=\"dataframe\">\n",
       "  <thead>\n",
       "    <tr style=\"text-align: right;\">\n",
       "      <th></th>\n",
       "      <th>item_id</th>\n",
       "      <th>user_id</th>\n",
       "      <th>sentiment_analysis</th>\n",
       "      <th>recommend</th>\n",
       "      <th>app_name</th>\n",
       "      <th>rating</th>\n",
       "    </tr>\n",
       "  </thead>\n",
       "  <tbody>\n",
       "    <tr>\n",
       "      <th>0</th>\n",
       "      <td>1250</td>\n",
       "      <td>76561197970982479</td>\n",
       "      <td>2</td>\n",
       "      <td>1</td>\n",
       "      <td>Killing Floor</td>\n",
       "      <td>5.0</td>\n",
       "    </tr>\n",
       "    <tr>\n",
       "      <th>1</th>\n",
       "      <td>1250</td>\n",
       "      <td>death-hunter</td>\n",
       "      <td>2</td>\n",
       "      <td>1</td>\n",
       "      <td>Killing Floor</td>\n",
       "      <td>5.0</td>\n",
       "    </tr>\n",
       "    <tr>\n",
       "      <th>2</th>\n",
       "      <td>1250</td>\n",
       "      <td>DJKamBer</td>\n",
       "      <td>0</td>\n",
       "      <td>1</td>\n",
       "      <td>Killing Floor</td>\n",
       "      <td>1.0</td>\n",
       "    </tr>\n",
       "    <tr>\n",
       "      <th>3</th>\n",
       "      <td>1250</td>\n",
       "      <td>diego9031</td>\n",
       "      <td>1</td>\n",
       "      <td>1</td>\n",
       "      <td>Killing Floor</td>\n",
       "      <td>3.0</td>\n",
       "    </tr>\n",
       "    <tr>\n",
       "      <th>4</th>\n",
       "      <td>1250</td>\n",
       "      <td>76561198081962345</td>\n",
       "      <td>1</td>\n",
       "      <td>1</td>\n",
       "      <td>Killing Floor</td>\n",
       "      <td>3.0</td>\n",
       "    </tr>\n",
       "    <tr>\n",
       "      <th>...</th>\n",
       "      <td>...</td>\n",
       "      <td>...</td>\n",
       "      <td>...</td>\n",
       "      <td>...</td>\n",
       "      <td>...</td>\n",
       "      <td>...</td>\n",
       "    </tr>\n",
       "    <tr>\n",
       "      <th>44734</th>\n",
       "      <td>367780</td>\n",
       "      <td>laislabonita75</td>\n",
       "      <td>2</td>\n",
       "      <td>1</td>\n",
       "      <td>Aero's Quest</td>\n",
       "      <td>5.0</td>\n",
       "    </tr>\n",
       "    <tr>\n",
       "      <th>44735</th>\n",
       "      <td>367780</td>\n",
       "      <td>evilindiegaming</td>\n",
       "      <td>2</td>\n",
       "      <td>1</td>\n",
       "      <td>Aero's Quest</td>\n",
       "      <td>5.0</td>\n",
       "    </tr>\n",
       "    <tr>\n",
       "      <th>44736</th>\n",
       "      <td>305920</td>\n",
       "      <td>laislabonita75</td>\n",
       "      <td>0</td>\n",
       "      <td>0</td>\n",
       "      <td>Another Perspective</td>\n",
       "      <td>0.0</td>\n",
       "    </tr>\n",
       "    <tr>\n",
       "      <th>44737</th>\n",
       "      <td>306040</td>\n",
       "      <td>Gamer0009</td>\n",
       "      <td>2</td>\n",
       "      <td>1</td>\n",
       "      <td>The Howler</td>\n",
       "      <td>5.0</td>\n",
       "    </tr>\n",
       "    <tr>\n",
       "      <th>44738</th>\n",
       "      <td>307130</td>\n",
       "      <td>llDracuwulf</td>\n",
       "      <td>2</td>\n",
       "      <td>1</td>\n",
       "      <td>Asteria</td>\n",
       "      <td>5.0</td>\n",
       "    </tr>\n",
       "  </tbody>\n",
       "</table>\n",
       "<p>44739 rows × 6 columns</p>\n",
       "</div>"
      ],
      "text/plain": [
       "       item_id            user_id  sentiment_analysis  recommend  \\\n",
       "0         1250  76561197970982479                   2          1   \n",
       "1         1250       death-hunter                   2          1   \n",
       "2         1250           DJKamBer                   0          1   \n",
       "3         1250          diego9031                   1          1   \n",
       "4         1250  76561198081962345                   1          1   \n",
       "...        ...                ...                 ...        ...   \n",
       "44734   367780     laislabonita75                   2          1   \n",
       "44735   367780    evilindiegaming                   2          1   \n",
       "44736   305920     laislabonita75                   0          0   \n",
       "44737   306040          Gamer0009                   2          1   \n",
       "44738   307130        llDracuwulf                   2          1   \n",
       "\n",
       "                  app_name  rating  \n",
       "0            Killing Floor     5.0  \n",
       "1            Killing Floor     5.0  \n",
       "2            Killing Floor     1.0  \n",
       "3            Killing Floor     3.0  \n",
       "4            Killing Floor     3.0  \n",
       "...                    ...     ...  \n",
       "44734         Aero's Quest     5.0  \n",
       "44735         Aero's Quest     5.0  \n",
       "44736  Another Perspective     0.0  \n",
       "44737           The Howler     5.0  \n",
       "44738              Asteria     5.0  \n",
       "\n",
       "[44739 rows x 6 columns]"
      ]
     },
     "execution_count": 59,
     "metadata": {},
     "output_type": "execute_result"
    }
   ],
   "source": [
    "merged_df"
   ]
  },
  {
   "cell_type": "code",
   "execution_count": 60,
   "metadata": {},
   "outputs": [
    {
     "data": {
      "text/plain": [
       "(44739, 6)"
      ]
     },
     "execution_count": 60,
     "metadata": {},
     "output_type": "execute_result"
    }
   ],
   "source": [
    "merged_df.shape"
   ]
  },
  {
   "cell_type": "code",
   "execution_count": 6,
   "metadata": {},
   "outputs": [],
   "source": [
    "merged_df['recommend'] = merged_df['recommend'].replace({True: 1, False: 0})"
   ]
  },
  {
   "cell_type": "code",
   "execution_count": 7,
   "metadata": {},
   "outputs": [
    {
     "name": "stderr",
     "output_type": "stream",
     "text": [
      "C:\\Users\\Vivobook\\AppData\\Local\\Temp\\ipykernel_16420\\41572838.py:2: FutureWarning: Series.__getitem__ treating keys as positions is deprecated. In a future version, integer keys will always be treated as labels (consistent with DataFrame behavior). To access a value by position, use `ser.iloc[pos]`\n",
      "  if (row[2] == 2) and (row[3] == 1):\n",
      "C:\\Users\\Vivobook\\AppData\\Local\\Temp\\ipykernel_16420\\41572838.py:2: FutureWarning: Series.__getitem__ treating keys as positions is deprecated. In a future version, integer keys will always be treated as labels (consistent with DataFrame behavior). To access a value by position, use `ser.iloc[pos]`\n",
      "  if (row[2] == 2) and (row[3] == 1):\n",
      "C:\\Users\\Vivobook\\AppData\\Local\\Temp\\ipykernel_16420\\41572838.py:4: FutureWarning: Series.__getitem__ treating keys as positions is deprecated. In a future version, integer keys will always be treated as labels (consistent with DataFrame behavior). To access a value by position, use `ser.iloc[pos]`\n",
      "  elif (row[2] == 2) and (row[3] == 0):\n",
      "C:\\Users\\Vivobook\\AppData\\Local\\Temp\\ipykernel_16420\\41572838.py:6: FutureWarning: Series.__getitem__ treating keys as positions is deprecated. In a future version, integer keys will always be treated as labels (consistent with DataFrame behavior). To access a value by position, use `ser.iloc[pos]`\n",
      "  elif (row[2] == 1) and (row[3] == 1):\n",
      "C:\\Users\\Vivobook\\AppData\\Local\\Temp\\ipykernel_16420\\41572838.py:8: FutureWarning: Series.__getitem__ treating keys as positions is deprecated. In a future version, integer keys will always be treated as labels (consistent with DataFrame behavior). To access a value by position, use `ser.iloc[pos]`\n",
      "  elif (row[2] == 1) and (row[3] == 0):\n",
      "C:\\Users\\Vivobook\\AppData\\Local\\Temp\\ipykernel_16420\\41572838.py:10: FutureWarning: Series.__getitem__ treating keys as positions is deprecated. In a future version, integer keys will always be treated as labels (consistent with DataFrame behavior). To access a value by position, use `ser.iloc[pos]`\n",
      "  elif (row[2] == 0) and (row[3] == 1):\n",
      "C:\\Users\\Vivobook\\AppData\\Local\\Temp\\ipykernel_16420\\41572838.py:12: FutureWarning: Series.__getitem__ treating keys as positions is deprecated. In a future version, integer keys will always be treated as labels (consistent with DataFrame behavior). To access a value by position, use `ser.iloc[pos]`\n",
      "  elif (row[2] == 0) and (row[3] == 0):\n"
     ]
    }
   ],
   "source": [
    "for index, row in merged_df.iterrows():\n",
    "    if (row[2] == 2) and (row[3] == 1):\n",
    "        merged_df.at[index, 'rating'] = 5\n",
    "    elif (row[2] == 2) and (row[3] == 0):\n",
    "        merged_df.at[index, 'rating'] = 4\n",
    "    elif (row[2] == 1) and (row[3] == 1):\n",
    "        merged_df.at[index, 'rating'] = 3\n",
    "    elif (row[2] == 1) and (row[3] == 0):\n",
    "        merged_df.at[index, 'rating'] = 2\n",
    "    elif (row[2] == 0) and (row[3] == 1):\n",
    "        merged_df.at[index, 'rating'] = 1\n",
    "    elif (row[2] == 0) and (row[3] == 0):\n",
    "        merged_df.at[index, 'rating'] = 0"
   ]
  },
  {
   "cell_type": "code",
   "execution_count": 8,
   "metadata": {},
   "outputs": [
    {
     "data": {
      "text/html": [
       "<div>\n",
       "<style scoped>\n",
       "    .dataframe tbody tr th:only-of-type {\n",
       "        vertical-align: middle;\n",
       "    }\n",
       "\n",
       "    .dataframe tbody tr th {\n",
       "        vertical-align: top;\n",
       "    }\n",
       "\n",
       "    .dataframe thead th {\n",
       "        text-align: right;\n",
       "    }\n",
       "</style>\n",
       "<table border=\"1\" class=\"dataframe\">\n",
       "  <thead>\n",
       "    <tr style=\"text-align: right;\">\n",
       "      <th></th>\n",
       "      <th>item_id</th>\n",
       "      <th>user_id</th>\n",
       "      <th>sentiment_analysis</th>\n",
       "      <th>recommend</th>\n",
       "      <th>app_name</th>\n",
       "      <th>rating</th>\n",
       "    </tr>\n",
       "  </thead>\n",
       "  <tbody>\n",
       "    <tr>\n",
       "      <th>0</th>\n",
       "      <td>1250</td>\n",
       "      <td>76561197970982479</td>\n",
       "      <td>2</td>\n",
       "      <td>1</td>\n",
       "      <td>Killing Floor</td>\n",
       "      <td>5.0</td>\n",
       "    </tr>\n",
       "    <tr>\n",
       "      <th>1</th>\n",
       "      <td>1250</td>\n",
       "      <td>death-hunter</td>\n",
       "      <td>2</td>\n",
       "      <td>1</td>\n",
       "      <td>Killing Floor</td>\n",
       "      <td>5.0</td>\n",
       "    </tr>\n",
       "    <tr>\n",
       "      <th>2</th>\n",
       "      <td>1250</td>\n",
       "      <td>DJKamBer</td>\n",
       "      <td>0</td>\n",
       "      <td>1</td>\n",
       "      <td>Killing Floor</td>\n",
       "      <td>1.0</td>\n",
       "    </tr>\n",
       "    <tr>\n",
       "      <th>3</th>\n",
       "      <td>1250</td>\n",
       "      <td>diego9031</td>\n",
       "      <td>1</td>\n",
       "      <td>1</td>\n",
       "      <td>Killing Floor</td>\n",
       "      <td>3.0</td>\n",
       "    </tr>\n",
       "    <tr>\n",
       "      <th>4</th>\n",
       "      <td>1250</td>\n",
       "      <td>76561198081962345</td>\n",
       "      <td>1</td>\n",
       "      <td>1</td>\n",
       "      <td>Killing Floor</td>\n",
       "      <td>3.0</td>\n",
       "    </tr>\n",
       "    <tr>\n",
       "      <th>...</th>\n",
       "      <td>...</td>\n",
       "      <td>...</td>\n",
       "      <td>...</td>\n",
       "      <td>...</td>\n",
       "      <td>...</td>\n",
       "      <td>...</td>\n",
       "    </tr>\n",
       "    <tr>\n",
       "      <th>44734</th>\n",
       "      <td>367780</td>\n",
       "      <td>laislabonita75</td>\n",
       "      <td>2</td>\n",
       "      <td>1</td>\n",
       "      <td>Aero's Quest</td>\n",
       "      <td>5.0</td>\n",
       "    </tr>\n",
       "    <tr>\n",
       "      <th>44735</th>\n",
       "      <td>367780</td>\n",
       "      <td>evilindiegaming</td>\n",
       "      <td>2</td>\n",
       "      <td>1</td>\n",
       "      <td>Aero's Quest</td>\n",
       "      <td>5.0</td>\n",
       "    </tr>\n",
       "    <tr>\n",
       "      <th>44736</th>\n",
       "      <td>305920</td>\n",
       "      <td>laislabonita75</td>\n",
       "      <td>0</td>\n",
       "      <td>0</td>\n",
       "      <td>Another Perspective</td>\n",
       "      <td>0.0</td>\n",
       "    </tr>\n",
       "    <tr>\n",
       "      <th>44737</th>\n",
       "      <td>306040</td>\n",
       "      <td>Gamer0009</td>\n",
       "      <td>2</td>\n",
       "      <td>1</td>\n",
       "      <td>The Howler</td>\n",
       "      <td>5.0</td>\n",
       "    </tr>\n",
       "    <tr>\n",
       "      <th>44738</th>\n",
       "      <td>307130</td>\n",
       "      <td>llDracuwulf</td>\n",
       "      <td>2</td>\n",
       "      <td>1</td>\n",
       "      <td>Asteria</td>\n",
       "      <td>5.0</td>\n",
       "    </tr>\n",
       "  </tbody>\n",
       "</table>\n",
       "<p>44739 rows × 6 columns</p>\n",
       "</div>"
      ],
      "text/plain": [
       "       item_id            user_id  sentiment_analysis  recommend  \\\n",
       "0         1250  76561197970982479                   2          1   \n",
       "1         1250       death-hunter                   2          1   \n",
       "2         1250           DJKamBer                   0          1   \n",
       "3         1250          diego9031                   1          1   \n",
       "4         1250  76561198081962345                   1          1   \n",
       "...        ...                ...                 ...        ...   \n",
       "44734   367780     laislabonita75                   2          1   \n",
       "44735   367780    evilindiegaming                   2          1   \n",
       "44736   305920     laislabonita75                   0          0   \n",
       "44737   306040          Gamer0009                   2          1   \n",
       "44738   307130        llDracuwulf                   2          1   \n",
       "\n",
       "                  app_name  rating  \n",
       "0            Killing Floor     5.0  \n",
       "1            Killing Floor     5.0  \n",
       "2            Killing Floor     1.0  \n",
       "3            Killing Floor     3.0  \n",
       "4            Killing Floor     3.0  \n",
       "...                    ...     ...  \n",
       "44734         Aero's Quest     5.0  \n",
       "44735         Aero's Quest     5.0  \n",
       "44736  Another Perspective     0.0  \n",
       "44737           The Howler     5.0  \n",
       "44738              Asteria     5.0  \n",
       "\n",
       "[44739 rows x 6 columns]"
      ]
     },
     "execution_count": 8,
     "metadata": {},
     "output_type": "execute_result"
    }
   ],
   "source": [
    "merged_df"
   ]
  },
  {
   "cell_type": "code",
   "execution_count": 9,
   "metadata": {},
   "outputs": [
    {
     "name": "stderr",
     "output_type": "stream",
     "text": [
      "c:\\Users\\Vivobook\\miniconda3\\envs\\datascience\\Lib\\site-packages\\pyarrow\\pandas_compat.py:373: FutureWarning: is_sparse is deprecated and will be removed in a future version. Check `isinstance(dtype, pd.SparseDtype)` instead.\n",
      "  if _pandas_api.is_sparse(col):\n"
     ]
    }
   ],
   "source": [
    "merged_df.to_parquet('modelo.parquet')"
   ]
  },
  {
   "cell_type": "code",
   "execution_count": 10,
   "metadata": {},
   "outputs": [],
   "source": [
    "# Leer el archivo .parquet y cargarlo en un DataFrame de pandas\n",
    "new_df = pd.read_parquet('modelo.parquet')"
   ]
  },
  {
   "cell_type": "code",
   "execution_count": 44,
   "metadata": {},
   "outputs": [],
   "source": [
    "df=pd.read_csv('modelo.csv')"
   ]
  },
  {
   "cell_type": "code",
   "execution_count": 45,
   "metadata": {},
   "outputs": [
    {
     "data": {
      "text/html": [
       "<div>\n",
       "<style scoped>\n",
       "    .dataframe tbody tr th:only-of-type {\n",
       "        vertical-align: middle;\n",
       "    }\n",
       "\n",
       "    .dataframe tbody tr th {\n",
       "        vertical-align: top;\n",
       "    }\n",
       "\n",
       "    .dataframe thead th {\n",
       "        text-align: right;\n",
       "    }\n",
       "</style>\n",
       "<table border=\"1\" class=\"dataframe\">\n",
       "  <thead>\n",
       "    <tr style=\"text-align: right;\">\n",
       "      <th></th>\n",
       "      <th>item_id</th>\n",
       "      <th>user_id</th>\n",
       "      <th>sentiment_analysis</th>\n",
       "      <th>recommend</th>\n",
       "      <th>app_name</th>\n",
       "      <th>rating</th>\n",
       "    </tr>\n",
       "  </thead>\n",
       "  <tbody>\n",
       "    <tr>\n",
       "      <th>0</th>\n",
       "      <td>1250</td>\n",
       "      <td>76561197970982479</td>\n",
       "      <td>2</td>\n",
       "      <td>1</td>\n",
       "      <td>Killing Floor</td>\n",
       "      <td>5.0</td>\n",
       "    </tr>\n",
       "    <tr>\n",
       "      <th>1</th>\n",
       "      <td>1250</td>\n",
       "      <td>death-hunter</td>\n",
       "      <td>2</td>\n",
       "      <td>1</td>\n",
       "      <td>Killing Floor</td>\n",
       "      <td>5.0</td>\n",
       "    </tr>\n",
       "    <tr>\n",
       "      <th>2</th>\n",
       "      <td>1250</td>\n",
       "      <td>DJKamBer</td>\n",
       "      <td>0</td>\n",
       "      <td>1</td>\n",
       "      <td>Killing Floor</td>\n",
       "      <td>1.0</td>\n",
       "    </tr>\n",
       "    <tr>\n",
       "      <th>3</th>\n",
       "      <td>1250</td>\n",
       "      <td>diego9031</td>\n",
       "      <td>1</td>\n",
       "      <td>1</td>\n",
       "      <td>Killing Floor</td>\n",
       "      <td>3.0</td>\n",
       "    </tr>\n",
       "    <tr>\n",
       "      <th>4</th>\n",
       "      <td>1250</td>\n",
       "      <td>76561198081962345</td>\n",
       "      <td>1</td>\n",
       "      <td>1</td>\n",
       "      <td>Killing Floor</td>\n",
       "      <td>3.0</td>\n",
       "    </tr>\n",
       "    <tr>\n",
       "      <th>...</th>\n",
       "      <td>...</td>\n",
       "      <td>...</td>\n",
       "      <td>...</td>\n",
       "      <td>...</td>\n",
       "      <td>...</td>\n",
       "      <td>...</td>\n",
       "    </tr>\n",
       "    <tr>\n",
       "      <th>44734</th>\n",
       "      <td>367780</td>\n",
       "      <td>laislabonita75</td>\n",
       "      <td>2</td>\n",
       "      <td>1</td>\n",
       "      <td>Aero's Quest</td>\n",
       "      <td>5.0</td>\n",
       "    </tr>\n",
       "    <tr>\n",
       "      <th>44735</th>\n",
       "      <td>367780</td>\n",
       "      <td>evilindiegaming</td>\n",
       "      <td>2</td>\n",
       "      <td>1</td>\n",
       "      <td>Aero's Quest</td>\n",
       "      <td>5.0</td>\n",
       "    </tr>\n",
       "    <tr>\n",
       "      <th>44736</th>\n",
       "      <td>305920</td>\n",
       "      <td>laislabonita75</td>\n",
       "      <td>0</td>\n",
       "      <td>0</td>\n",
       "      <td>Another Perspective</td>\n",
       "      <td>0.0</td>\n",
       "    </tr>\n",
       "    <tr>\n",
       "      <th>44737</th>\n",
       "      <td>306040</td>\n",
       "      <td>Gamer0009</td>\n",
       "      <td>2</td>\n",
       "      <td>1</td>\n",
       "      <td>The Howler</td>\n",
       "      <td>5.0</td>\n",
       "    </tr>\n",
       "    <tr>\n",
       "      <th>44738</th>\n",
       "      <td>307130</td>\n",
       "      <td>llDracuwulf</td>\n",
       "      <td>2</td>\n",
       "      <td>1</td>\n",
       "      <td>Asteria</td>\n",
       "      <td>5.0</td>\n",
       "    </tr>\n",
       "  </tbody>\n",
       "</table>\n",
       "<p>44739 rows × 6 columns</p>\n",
       "</div>"
      ],
      "text/plain": [
       "       item_id            user_id  sentiment_analysis  recommend  \\\n",
       "0         1250  76561197970982479                   2          1   \n",
       "1         1250       death-hunter                   2          1   \n",
       "2         1250           DJKamBer                   0          1   \n",
       "3         1250          diego9031                   1          1   \n",
       "4         1250  76561198081962345                   1          1   \n",
       "...        ...                ...                 ...        ...   \n",
       "44734   367780     laislabonita75                   2          1   \n",
       "44735   367780    evilindiegaming                   2          1   \n",
       "44736   305920     laislabonita75                   0          0   \n",
       "44737   306040          Gamer0009                   2          1   \n",
       "44738   307130        llDracuwulf                   2          1   \n",
       "\n",
       "                  app_name  rating  \n",
       "0            Killing Floor     5.0  \n",
       "1            Killing Floor     5.0  \n",
       "2            Killing Floor     1.0  \n",
       "3            Killing Floor     3.0  \n",
       "4            Killing Floor     3.0  \n",
       "...                    ...     ...  \n",
       "44734         Aero's Quest     5.0  \n",
       "44735         Aero's Quest     5.0  \n",
       "44736  Another Perspective     0.0  \n",
       "44737           The Howler     5.0  \n",
       "44738              Asteria     5.0  \n",
       "\n",
       "[44739 rows x 6 columns]"
      ]
     },
     "execution_count": 45,
     "metadata": {},
     "output_type": "execute_result"
    }
   ],
   "source": [
    "df"
   ]
  },
  {
   "cell_type": "code",
   "execution_count": 61,
   "metadata": {},
   "outputs": [
    {
     "data": {
      "text/html": [
       "<div>\n",
       "<style scoped>\n",
       "    .dataframe tbody tr th:only-of-type {\n",
       "        vertical-align: middle;\n",
       "    }\n",
       "\n",
       "    .dataframe tbody tr th {\n",
       "        vertical-align: top;\n",
       "    }\n",
       "\n",
       "    .dataframe thead th {\n",
       "        text-align: right;\n",
       "    }\n",
       "</style>\n",
       "<table border=\"1\" class=\"dataframe\">\n",
       "  <thead>\n",
       "    <tr style=\"text-align: right;\">\n",
       "      <th></th>\n",
       "      <th>item_id</th>\n",
       "      <th>user_id</th>\n",
       "      <th>sentiment_analysis</th>\n",
       "      <th>recommend</th>\n",
       "      <th>app_name</th>\n",
       "      <th>rating</th>\n",
       "    </tr>\n",
       "  </thead>\n",
       "  <tbody>\n",
       "    <tr>\n",
       "      <th>0</th>\n",
       "      <td>1250</td>\n",
       "      <td>76561197970982479</td>\n",
       "      <td>2</td>\n",
       "      <td>1</td>\n",
       "      <td>Killing Floor</td>\n",
       "      <td>5.0</td>\n",
       "    </tr>\n",
       "    <tr>\n",
       "      <th>1</th>\n",
       "      <td>1250</td>\n",
       "      <td>death-hunter</td>\n",
       "      <td>2</td>\n",
       "      <td>1</td>\n",
       "      <td>Killing Floor</td>\n",
       "      <td>5.0</td>\n",
       "    </tr>\n",
       "    <tr>\n",
       "      <th>2</th>\n",
       "      <td>1250</td>\n",
       "      <td>DJKamBer</td>\n",
       "      <td>0</td>\n",
       "      <td>1</td>\n",
       "      <td>Killing Floor</td>\n",
       "      <td>1.0</td>\n",
       "    </tr>\n",
       "    <tr>\n",
       "      <th>3</th>\n",
       "      <td>1250</td>\n",
       "      <td>diego9031</td>\n",
       "      <td>1</td>\n",
       "      <td>1</td>\n",
       "      <td>Killing Floor</td>\n",
       "      <td>3.0</td>\n",
       "    </tr>\n",
       "    <tr>\n",
       "      <th>4</th>\n",
       "      <td>1250</td>\n",
       "      <td>76561198081962345</td>\n",
       "      <td>1</td>\n",
       "      <td>1</td>\n",
       "      <td>Killing Floor</td>\n",
       "      <td>3.0</td>\n",
       "    </tr>\n",
       "    <tr>\n",
       "      <th>...</th>\n",
       "      <td>...</td>\n",
       "      <td>...</td>\n",
       "      <td>...</td>\n",
       "      <td>...</td>\n",
       "      <td>...</td>\n",
       "      <td>...</td>\n",
       "    </tr>\n",
       "    <tr>\n",
       "      <th>44734</th>\n",
       "      <td>367780</td>\n",
       "      <td>laislabonita75</td>\n",
       "      <td>2</td>\n",
       "      <td>1</td>\n",
       "      <td>Aero's Quest</td>\n",
       "      <td>5.0</td>\n",
       "    </tr>\n",
       "    <tr>\n",
       "      <th>44735</th>\n",
       "      <td>367780</td>\n",
       "      <td>evilindiegaming</td>\n",
       "      <td>2</td>\n",
       "      <td>1</td>\n",
       "      <td>Aero's Quest</td>\n",
       "      <td>5.0</td>\n",
       "    </tr>\n",
       "    <tr>\n",
       "      <th>44736</th>\n",
       "      <td>305920</td>\n",
       "      <td>laislabonita75</td>\n",
       "      <td>0</td>\n",
       "      <td>0</td>\n",
       "      <td>Another Perspective</td>\n",
       "      <td>0.0</td>\n",
       "    </tr>\n",
       "    <tr>\n",
       "      <th>44737</th>\n",
       "      <td>306040</td>\n",
       "      <td>Gamer0009</td>\n",
       "      <td>2</td>\n",
       "      <td>1</td>\n",
       "      <td>The Howler</td>\n",
       "      <td>5.0</td>\n",
       "    </tr>\n",
       "    <tr>\n",
       "      <th>44738</th>\n",
       "      <td>307130</td>\n",
       "      <td>llDracuwulf</td>\n",
       "      <td>2</td>\n",
       "      <td>1</td>\n",
       "      <td>Asteria</td>\n",
       "      <td>5.0</td>\n",
       "    </tr>\n",
       "  </tbody>\n",
       "</table>\n",
       "<p>44739 rows × 6 columns</p>\n",
       "</div>"
      ],
      "text/plain": [
       "       item_id            user_id  sentiment_analysis  recommend  \\\n",
       "0         1250  76561197970982479                   2          1   \n",
       "1         1250       death-hunter                   2          1   \n",
       "2         1250           DJKamBer                   0          1   \n",
       "3         1250          diego9031                   1          1   \n",
       "4         1250  76561198081962345                   1          1   \n",
       "...        ...                ...                 ...        ...   \n",
       "44734   367780     laislabonita75                   2          1   \n",
       "44735   367780    evilindiegaming                   2          1   \n",
       "44736   305920     laislabonita75                   0          0   \n",
       "44737   306040          Gamer0009                   2          1   \n",
       "44738   307130        llDracuwulf                   2          1   \n",
       "\n",
       "                  app_name  rating  \n",
       "0            Killing Floor     5.0  \n",
       "1            Killing Floor     5.0  \n",
       "2            Killing Floor     1.0  \n",
       "3            Killing Floor     3.0  \n",
       "4            Killing Floor     3.0  \n",
       "...                    ...     ...  \n",
       "44734         Aero's Quest     5.0  \n",
       "44735         Aero's Quest     5.0  \n",
       "44736  Another Perspective     0.0  \n",
       "44737           The Howler     5.0  \n",
       "44738              Asteria     5.0  \n",
       "\n",
       "[44739 rows x 6 columns]"
      ]
     },
     "execution_count": 61,
     "metadata": {},
     "output_type": "execute_result"
    }
   ],
   "source": [
    "new_df"
   ]
  },
  {
   "cell_type": "code",
   "execution_count": 46,
   "metadata": {},
   "outputs": [],
   "source": [
    "reader = Reader(rating_scale=(0, 5))  # Adaptar rating_scale a tus datos"
   ]
  },
  {
   "cell_type": "code",
   "execution_count": 47,
   "metadata": {},
   "outputs": [],
   "source": [
    "data = Dataset.load_from_df(df[['user_id', 'item_id', 'rating']], reader)"
   ]
  },
  {
   "cell_type": "code",
   "execution_count": 48,
   "metadata": {},
   "outputs": [],
   "source": [
    "#Dividir el conjunto de datos en entrenamiento y prueba\n",
    "trainset, testset = train_test_split(data, test_size=0.2,random_state=42)  # Puedes ajustar el tamaño de prueba"
   ]
  },
  {
   "cell_type": "code",
   "execution_count": 15,
   "metadata": {},
   "outputs": [
    {
     "name": "stdout",
     "output_type": "stream",
     "text": [
      "1\n",
      "Evaluating RMSE of algorithm SVD on 3 split(s).\n",
      "\n",
      "                  Fold 1  Fold 2  Fold 3  Mean    Std     \n",
      "RMSE (testset)    1.5519  1.5521  1.5608  1.5549  0.0042  \n",
      "Fit time          0.16    0.15    0.24    0.18    0.04    \n",
      "Test time         0.20    0.06    0.15    0.13    0.05    \n",
      "2\n",
      "Evaluating RMSE of algorithm SVD on 3 split(s).\n",
      "\n",
      "                  Fold 1  Fold 2  Fold 3  Mean    Std     \n",
      "RMSE (testset)    1.5567  1.5556  1.5558  1.5560  0.0005  \n",
      "Fit time          0.19    0.16    0.18    0.18    0.01    \n",
      "Test time         0.08    0.16    0.08    0.11    0.03    \n",
      "4\n",
      "Evaluating RMSE of algorithm SVD on 3 split(s).\n",
      "\n",
      "                  Fold 1  Fold 2  Fold 3  Mean    Std     \n",
      "RMSE (testset)    1.5567  1.5611  1.5539  1.5572  0.0030  \n",
      "Fit time          0.23    0.17    0.21    0.20    0.03    \n",
      "Test time         0.07    0.07    0.16    0.10    0.04    \n",
      "8\n",
      "Evaluating RMSE of algorithm SVD on 3 split(s).\n",
      "\n",
      "                  Fold 1  Fold 2  Fold 3  Mean    Std     \n",
      "RMSE (testset)    1.5605  1.5514  1.5569  1.5562  0.0037  \n",
      "Fit time          0.22    0.17    0.18    0.19    0.02    \n",
      "Test time         0.08    0.15    0.07    0.10    0.03    \n",
      "16\n",
      "Evaluating RMSE of algorithm SVD on 3 split(s).\n",
      "\n",
      "                  Fold 1  Fold 2  Fold 3  Mean    Std     \n",
      "RMSE (testset)    1.5565  1.5663  1.5614  1.5614  0.0040  \n",
      "Fit time          0.21    0.21    0.21    0.21    0.00    \n",
      "Test time         0.16    0.07    0.15    0.13    0.04    \n",
      "32\n",
      "Evaluating RMSE of algorithm SVD on 3 split(s).\n",
      "\n",
      "                  Fold 1  Fold 2  Fold 3  Mean    Std     \n",
      "RMSE (testset)    1.5567  1.5567  1.5615  1.5583  0.0023  \n",
      "Fit time          0.25    0.24    0.24    0.24    0.01    \n",
      "Test time         0.07    0.14    0.07    0.09    0.03    \n",
      "64\n",
      "Evaluating RMSE of algorithm SVD on 3 split(s).\n",
      "\n",
      "                  Fold 1  Fold 2  Fold 3  Mean    Std     \n",
      "RMSE (testset)    1.5762  1.5580  1.5539  1.5627  0.0097  \n",
      "Fit time          0.33    0.31    0.33    0.33    0.01    \n",
      "Test time         0.15    0.07    0.15    0.12    0.04    \n",
      "128\n",
      "Evaluating RMSE of algorithm SVD on 3 split(s).\n",
      "\n",
      "                  Fold 1  Fold 2  Fold 3  Mean    Std     \n",
      "RMSE (testset)    1.5515  1.5695  1.5594  1.5601  0.0073  \n",
      "Fit time          0.54    0.48    0.48    0.50    0.03    \n",
      "Test time         0.07    0.15    0.07    0.10    0.04    \n",
      "256\n",
      "Evaluating RMSE of algorithm SVD on 3 split(s).\n",
      "\n",
      "                  Fold 1  Fold 2  Fold 3  Mean    Std     \n",
      "RMSE (testset)    1.5513  1.5620  1.5728  1.5620  0.0088  \n",
      "Fit time          0.81    0.79    0.83    0.81    0.02    \n",
      "Test time         0.08    0.08    0.07    0.07    0.00    \n"
     ]
    }
   ],
   "source": [
    "#optimizacion de hiperparametros \n",
    "from surprise.model_selection import cross_validate\n",
    "\n",
    "rmse_test_means = []\n",
    "factores = [1,2,4,8,16,32,64,128,256]\n",
    "\n",
    "for factor in factores:\n",
    "    print(factor)\n",
    "    model = SVD(n_factors=factor)\n",
    "    cv = cross_validate(model, data, measures=['RMSE'], cv = 3, verbose=True)\n",
    "    rmse_test_means.append(np.mean(cv['test_rmse']))"
   ]
  },
  {
   "cell_type": "code",
   "execution_count": 49,
   "metadata": {},
   "outputs": [],
   "source": [
    "from surprise.model_selection import GridSearchCV\n",
    "\n",
    "param_grid = {'n_factors': [5,50,100],'n_epochs': [5, 10,20], 'lr_all': [0.001, 0.002, 0.005],\n",
    "              'reg_all': [0.002, 0.02, 0.2]}\n",
    "gs = GridSearchCV(SVD, param_grid, measures=['rmse'], cv=3, n_jobs = -1)\n",
    "gs.fit(data)"
   ]
  },
  {
   "cell_type": "code",
   "execution_count": 50,
   "metadata": {},
   "outputs": [
    {
     "name": "stdout",
     "output_type": "stream",
     "text": [
      "1.5525539273094084\n",
      "{'n_factors': 100, 'n_epochs': 20, 'lr_all': 0.005, 'reg_all': 0.2}\n"
     ]
    }
   ],
   "source": [
    "print(gs.best_score['rmse'])\n",
    "print(gs.best_params['rmse'])"
   ]
  },
  {
   "cell_type": "code",
   "execution_count": 19,
   "metadata": {},
   "outputs": [],
   "source": [
    "best_model=gs.best_params"
   ]
  },
  {
   "cell_type": "code",
   "execution_count": 51,
   "metadata": {},
   "outputs": [
    {
     "data": {
      "text/plain": [
       "<surprise.prediction_algorithms.matrix_factorization.SVD at 0x23293699390>"
      ]
     },
     "execution_count": 51,
     "metadata": {},
     "output_type": "execute_result"
    }
   ],
   "source": [
    "#Seleccionar un algoritmo (por ejemplo, SVD) y entrenar el modelo\n",
    "model = SVD(n_factors=100, n_epochs=20, lr_all=0.005, reg_all=0.2)\n",
    "model.fit(trainset)"
   ]
  },
  {
   "cell_type": "code",
   "execution_count": 52,
   "metadata": {},
   "outputs": [],
   "source": [
    "with open('modelo.pkl', 'wb') as archivo:\n",
    "    pickle.dump(model, archivo)"
   ]
  },
  {
   "cell_type": "code",
   "execution_count": 53,
   "metadata": {},
   "outputs": [],
   "source": [
    "with open ('modelo.pkl', 'rb') as archivo:\n",
    "    modelo = pickle.load(archivo)"
   ]
  },
  {
   "cell_type": "code",
   "execution_count": 54,
   "metadata": {},
   "outputs": [
    {
     "name": "stdout",
     "output_type": "stream",
     "text": [
      "<surprise.prediction_algorithms.matrix_factorization.SVD object at 0x0000023293F7B890>\n"
     ]
    }
   ],
   "source": [
    "print(modelo)"
   ]
  },
  {
   "cell_type": "code",
   "execution_count": 66,
   "metadata": {},
   "outputs": [],
   "source": [
    "def recomendacion_usuario( id_usuario ):\n",
    "    if id_usuario not in new_df['user_id'].unique():\n",
    "        return {'error': 'El usuario especificado no existe.'}\n",
    "    #ID del usuario para el cual quieres obtener recomendaciones\n",
    "    usuario_especifico = id_usuario  \n",
    "\n",
    "    #Crear una lista de juegos ya valorados por el usuario específico\n",
    "    juegos_valorados = new_df[new_df['user_id'] == usuario_especifico]['app_name'].unique()\n",
    "\n",
    "    #Crear una lista de todos los juegos disponibles\n",
    "    todos_los_juegos = new_df['app_name'].unique()\n",
    "\n",
    "    #Crear una lista de juegos no valorados por el usuario específico\n",
    "    juegos_no_valorados = list(set(todos_los_juegos) - set(juegos_valorados))\n",
    "\n",
    "    #Generar predicciones para los juegos no valorados por el usuario\n",
    "    predicciones = [modelo.predict(usuario_especifico, juego) for juego in juegos_no_valorados]\n",
    "\n",
    "    #Ordenar las predicciones en base a la valoración y obtener los juegos recomendados\n",
    "    recomendaciones = sorted(predicciones, key=lambda x: x.est, reverse=True)[:5]  # Obtener las 5 mejores recomendaciones\n",
    "\n",
    "    #Mostrar los juegos recomendados\n",
    "   \n",
    "    lista=list()\n",
    "    for recomendacion in recomendaciones:\n",
    "        lista.append(recomendacion.iid)\n",
    "    recomendaciones_dict = {\n",
    "        'Juego1': lista[0],\n",
    "        'Juego2': lista[1],\n",
    "        'Juego3': lista[2],\n",
    "        'Juego4': lista[3],\n",
    "        'Juego5': lista[4]\n",
    "    }\n",
    "    return recomendaciones_dict\n",
    "    "
   ]
  },
  {
   "cell_type": "code",
   "execution_count": 67,
   "metadata": {},
   "outputs": [
    {
     "data": {
      "text/plain": [
       "{'Juego1': 'Cloudberry Kingdom™',\n",
       " 'Juego2': 'Avaris 2: The Return of the Empress',\n",
       " 'Juego3': 'Peggle Deluxe',\n",
       " 'Juego4': 'LEGO® Worlds',\n",
       " 'Juego5': 'SuperPower 2 Steam Edition'}"
      ]
     },
     "execution_count": 67,
     "metadata": {},
     "output_type": "execute_result"
    }
   ],
   "source": [
    "recomendacion_usuario('inorisanbaka')"
   ]
  },
  {
   "cell_type": "code",
   "execution_count": 69,
   "metadata": {},
   "outputs": [
    {
     "data": {
      "text/plain": [
       "{'error': 'El usuario especificado no existe.'}"
      ]
     },
     "execution_count": 69,
     "metadata": {},
     "output_type": "execute_result"
    }
   ],
   "source": [
    "recomendacion_usuario(\"0\")"
   ]
  },
  {
   "cell_type": "code",
   "execution_count": 70,
   "metadata": {},
   "outputs": [
    {
     "data": {
      "text/plain": [
       "{'error': 'El usuario especificado no existe.'}"
      ]
     },
     "execution_count": 70,
     "metadata": {},
     "output_type": "execute_result"
    }
   ],
   "source": [
    "recomendacion_usuario(\"\")"
   ]
  },
  {
   "cell_type": "code",
   "execution_count": 71,
   "metadata": {},
   "outputs": [
    {
     "data": {
      "text/plain": [
       "{'Juego1': 'Cloudberry Kingdom™',\n",
       " 'Juego2': 'Avaris 2: The Return of the Empress',\n",
       " 'Juego3': 'Peggle Deluxe',\n",
       " 'Juego4': 'LEGO® Worlds',\n",
       " 'Juego5': 'SuperPower 2 Steam Edition'}"
      ]
     },
     "execution_count": 71,
     "metadata": {},
     "output_type": "execute_result"
    }
   ],
   "source": [
    "recomendacion_usuario(\"inorisanbaka\")"
   ]
  }
 ],
 "metadata": {
  "kernelspec": {
   "display_name": "datascience",
   "language": "python",
   "name": "python3"
  },
  "language_info": {
   "codemirror_mode": {
    "name": "ipython",
    "version": 3
   },
   "file_extension": ".py",
   "mimetype": "text/x-python",
   "name": "python",
   "nbconvert_exporter": "python",
   "pygments_lexer": "ipython3",
   "version": "3.11.5"
  }
 },
 "nbformat": 4,
 "nbformat_minor": 2
}
