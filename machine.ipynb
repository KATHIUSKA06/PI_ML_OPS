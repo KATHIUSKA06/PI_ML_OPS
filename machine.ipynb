{
 "cells": [
  {
   "cell_type": "code",
   "execution_count": 37,
   "metadata": {},
   "outputs": [],
   "source": [
    "import pandas as pd\n",
    "import numpy as np\n",
    "import matplotlib.pyplot as plt\n",
    "from collections import Counter\n",
    "import seaborn as sns\n",
    "import warnings\n",
    "from surprise import Dataset\n",
    "from surprise import Reader\n",
    "from surprise.model_selection import train_test_split\n",
    "import pyarrow.parquet as pq\n",
    "from surprise import SVD\n",
    "from surprise import accuracy\n",
    "import pickle"
   ]
  },
  {
   "cell_type": "code",
   "execution_count": 29,
   "metadata": {},
   "outputs": [],
   "source": [
    "games=pd.read_parquet(\"games.parquet\")\n",
    "#items=pd.read_parquet(\"items.parquet\")\n",
    "reviews=pd.read_parquet(\"reviews.parquet\")"
   ]
  },
  {
   "cell_type": "code",
   "execution_count": 30,
   "metadata": {},
   "outputs": [],
   "source": [
    "merged_df = pd.merge(reviews[['item_id', 'user_id', 'sentiment_analysis',\"recommend\"]], games[['app_name',\"item_id\"]], left_on='item_id', right_on=\"item_id\")"
   ]
  },
  {
   "cell_type": "code",
   "execution_count": 31,
   "metadata": {},
   "outputs": [
    {
     "data": {
      "text/plain": [
       "(44739, 5)"
      ]
     },
     "execution_count": 31,
     "metadata": {},
     "output_type": "execute_result"
    }
   ],
   "source": [
    "merged_df.shape"
   ]
  },
  {
   "cell_type": "code",
   "execution_count": 32,
   "metadata": {},
   "outputs": [],
   "source": [
    "merged_df['recommend'] = merged_df['recommend'].replace({True: 1, False: 0})"
   ]
  },
  {
   "cell_type": "code",
   "execution_count": 78,
   "metadata": {},
   "outputs": [
    {
     "name": "stderr",
     "output_type": "stream",
     "text": [
      "C:\\Users\\Vivobook\\AppData\\Local\\Temp\\ipykernel_12160\\41572838.py:2: FutureWarning: Series.__getitem__ treating keys as positions is deprecated. In a future version, integer keys will always be treated as labels (consistent with DataFrame behavior). To access a value by position, use `ser.iloc[pos]`\n",
      "  if (row[2] == 2) and (row[3] == 1):\n",
      "C:\\Users\\Vivobook\\AppData\\Local\\Temp\\ipykernel_12160\\41572838.py:4: FutureWarning: Series.__getitem__ treating keys as positions is deprecated. In a future version, integer keys will always be treated as labels (consistent with DataFrame behavior). To access a value by position, use `ser.iloc[pos]`\n",
      "  elif (row[2] == 2) and (row[3] == 0):\n",
      "C:\\Users\\Vivobook\\AppData\\Local\\Temp\\ipykernel_12160\\41572838.py:6: FutureWarning: Series.__getitem__ treating keys as positions is deprecated. In a future version, integer keys will always be treated as labels (consistent with DataFrame behavior). To access a value by position, use `ser.iloc[pos]`\n",
      "  elif (row[2] == 1) and (row[3] == 1):\n",
      "C:\\Users\\Vivobook\\AppData\\Local\\Temp\\ipykernel_12160\\41572838.py:8: FutureWarning: Series.__getitem__ treating keys as positions is deprecated. In a future version, integer keys will always be treated as labels (consistent with DataFrame behavior). To access a value by position, use `ser.iloc[pos]`\n",
      "  elif (row[2] == 1) and (row[3] == 0):\n",
      "C:\\Users\\Vivobook\\AppData\\Local\\Temp\\ipykernel_12160\\41572838.py:10: FutureWarning: Series.__getitem__ treating keys as positions is deprecated. In a future version, integer keys will always be treated as labels (consistent with DataFrame behavior). To access a value by position, use `ser.iloc[pos]`\n",
      "  elif (row[2] == 0) and (row[3] == 1):\n",
      "C:\\Users\\Vivobook\\AppData\\Local\\Temp\\ipykernel_12160\\41572838.py:12: FutureWarning: Series.__getitem__ treating keys as positions is deprecated. In a future version, integer keys will always be treated as labels (consistent with DataFrame behavior). To access a value by position, use `ser.iloc[pos]`\n",
      "  elif (row[2] == 0) and (row[3] == 0):\n"
     ]
    }
   ],
   "source": [
    "for index, row in merged_df.iterrows():\n",
    "    if (row[2] == 2) and (row[3] == 1):\n",
    "        merged_df.at[index, 'rating'] = 5\n",
    "    elif (row[2] == 2) and (row[3] == 0):\n",
    "        merged_df.at[index, 'rating'] = 4\n",
    "    elif (row[2] == 1) and (row[3] == 1):\n",
    "        merged_df.at[index, 'rating'] = 3\n",
    "    elif (row[2] == 1) and (row[3] == 0):\n",
    "        merged_df.at[index, 'rating'] = 2\n",
    "    elif (row[2] == 0) and (row[3] == 1):\n",
    "        merged_df.at[index, 'rating'] = 1\n",
    "    elif (row[2] == 0) and (row[3] == 0):\n",
    "        merged_df.at[index, 'rating'] = 0"
   ]
  },
  {
   "cell_type": "code",
   "execution_count": 34,
   "metadata": {},
   "outputs": [
    {
     "data": {
      "text/html": [
       "<div>\n",
       "<style scoped>\n",
       "    .dataframe tbody tr th:only-of-type {\n",
       "        vertical-align: middle;\n",
       "    }\n",
       "\n",
       "    .dataframe tbody tr th {\n",
       "        vertical-align: top;\n",
       "    }\n",
       "\n",
       "    .dataframe thead th {\n",
       "        text-align: right;\n",
       "    }\n",
       "</style>\n",
       "<table border=\"1\" class=\"dataframe\">\n",
       "  <thead>\n",
       "    <tr style=\"text-align: right;\">\n",
       "      <th></th>\n",
       "      <th>item_id</th>\n",
       "      <th>user_id</th>\n",
       "      <th>sentiment_analysis</th>\n",
       "      <th>recommend</th>\n",
       "      <th>app_name</th>\n",
       "      <th>rating</th>\n",
       "    </tr>\n",
       "  </thead>\n",
       "  <tbody>\n",
       "    <tr>\n",
       "      <th>0</th>\n",
       "      <td>1250</td>\n",
       "      <td>76561197970982479</td>\n",
       "      <td>2</td>\n",
       "      <td>1</td>\n",
       "      <td>Killing Floor</td>\n",
       "      <td>5.0</td>\n",
       "    </tr>\n",
       "    <tr>\n",
       "      <th>1</th>\n",
       "      <td>1250</td>\n",
       "      <td>death-hunter</td>\n",
       "      <td>2</td>\n",
       "      <td>1</td>\n",
       "      <td>Killing Floor</td>\n",
       "      <td>5.0</td>\n",
       "    </tr>\n",
       "    <tr>\n",
       "      <th>2</th>\n",
       "      <td>1250</td>\n",
       "      <td>DJKamBer</td>\n",
       "      <td>0</td>\n",
       "      <td>1</td>\n",
       "      <td>Killing Floor</td>\n",
       "      <td>1.0</td>\n",
       "    </tr>\n",
       "    <tr>\n",
       "      <th>3</th>\n",
       "      <td>1250</td>\n",
       "      <td>diego9031</td>\n",
       "      <td>1</td>\n",
       "      <td>1</td>\n",
       "      <td>Killing Floor</td>\n",
       "      <td>3.0</td>\n",
       "    </tr>\n",
       "    <tr>\n",
       "      <th>4</th>\n",
       "      <td>1250</td>\n",
       "      <td>76561198081962345</td>\n",
       "      <td>1</td>\n",
       "      <td>1</td>\n",
       "      <td>Killing Floor</td>\n",
       "      <td>3.0</td>\n",
       "    </tr>\n",
       "    <tr>\n",
       "      <th>...</th>\n",
       "      <td>...</td>\n",
       "      <td>...</td>\n",
       "      <td>...</td>\n",
       "      <td>...</td>\n",
       "      <td>...</td>\n",
       "      <td>...</td>\n",
       "    </tr>\n",
       "    <tr>\n",
       "      <th>44734</th>\n",
       "      <td>367780</td>\n",
       "      <td>laislabonita75</td>\n",
       "      <td>2</td>\n",
       "      <td>1</td>\n",
       "      <td>Aero's Quest</td>\n",
       "      <td>5.0</td>\n",
       "    </tr>\n",
       "    <tr>\n",
       "      <th>44735</th>\n",
       "      <td>367780</td>\n",
       "      <td>evilindiegaming</td>\n",
       "      <td>2</td>\n",
       "      <td>1</td>\n",
       "      <td>Aero's Quest</td>\n",
       "      <td>5.0</td>\n",
       "    </tr>\n",
       "    <tr>\n",
       "      <th>44736</th>\n",
       "      <td>305920</td>\n",
       "      <td>laislabonita75</td>\n",
       "      <td>0</td>\n",
       "      <td>0</td>\n",
       "      <td>Another Perspective</td>\n",
       "      <td>0.0</td>\n",
       "    </tr>\n",
       "    <tr>\n",
       "      <th>44737</th>\n",
       "      <td>306040</td>\n",
       "      <td>Gamer0009</td>\n",
       "      <td>2</td>\n",
       "      <td>1</td>\n",
       "      <td>The Howler</td>\n",
       "      <td>5.0</td>\n",
       "    </tr>\n",
       "    <tr>\n",
       "      <th>44738</th>\n",
       "      <td>307130</td>\n",
       "      <td>llDracuwulf</td>\n",
       "      <td>2</td>\n",
       "      <td>1</td>\n",
       "      <td>Asteria</td>\n",
       "      <td>5.0</td>\n",
       "    </tr>\n",
       "  </tbody>\n",
       "</table>\n",
       "<p>44739 rows × 6 columns</p>\n",
       "</div>"
      ],
      "text/plain": [
       "       item_id            user_id  sentiment_analysis  recommend  \\\n",
       "0         1250  76561197970982479                   2          1   \n",
       "1         1250       death-hunter                   2          1   \n",
       "2         1250           DJKamBer                   0          1   \n",
       "3         1250          diego9031                   1          1   \n",
       "4         1250  76561198081962345                   1          1   \n",
       "...        ...                ...                 ...        ...   \n",
       "44734   367780     laislabonita75                   2          1   \n",
       "44735   367780    evilindiegaming                   2          1   \n",
       "44736   305920     laislabonita75                   0          0   \n",
       "44737   306040          Gamer0009                   2          1   \n",
       "44738   307130        llDracuwulf                   2          1   \n",
       "\n",
       "                  app_name  rating  \n",
       "0            Killing Floor     5.0  \n",
       "1            Killing Floor     5.0  \n",
       "2            Killing Floor     1.0  \n",
       "3            Killing Floor     3.0  \n",
       "4            Killing Floor     3.0  \n",
       "...                    ...     ...  \n",
       "44734         Aero's Quest     5.0  \n",
       "44735         Aero's Quest     5.0  \n",
       "44736  Another Perspective     0.0  \n",
       "44737           The Howler     5.0  \n",
       "44738              Asteria     5.0  \n",
       "\n",
       "[44739 rows x 6 columns]"
      ]
     },
     "execution_count": 34,
     "metadata": {},
     "output_type": "execute_result"
    }
   ],
   "source": [
    "merged_df"
   ]
  },
  {
   "cell_type": "code",
   "execution_count": 35,
   "metadata": {},
   "outputs": [
    {
     "name": "stderr",
     "output_type": "stream",
     "text": [
      "c:\\Users\\Vivobook\\miniconda3\\envs\\datascience\\Lib\\site-packages\\pyarrow\\pandas_compat.py:373: FutureWarning: is_sparse is deprecated and will be removed in a future version. Check `isinstance(dtype, pd.SparseDtype)` instead.\n",
      "  if _pandas_api.is_sparse(col):\n"
     ]
    }
   ],
   "source": [
    "merged_df.to_parquet('modelo.parquet')"
   ]
  },
  {
   "cell_type": "code",
   "execution_count": 36,
   "metadata": {},
   "outputs": [],
   "source": [
    "# Leer el archivo .parquet y cargarlo en un DataFrame de pandas\n",
    "new_df = pd.read_parquet('modelo.parquet')"
   ]
  },
  {
   "cell_type": "code",
   "execution_count": 11,
   "metadata": {},
   "outputs": [
    {
     "data": {
      "text/html": [
       "<div>\n",
       "<style scoped>\n",
       "    .dataframe tbody tr th:only-of-type {\n",
       "        vertical-align: middle;\n",
       "    }\n",
       "\n",
       "    .dataframe tbody tr th {\n",
       "        vertical-align: top;\n",
       "    }\n",
       "\n",
       "    .dataframe thead th {\n",
       "        text-align: right;\n",
       "    }\n",
       "</style>\n",
       "<table border=\"1\" class=\"dataframe\">\n",
       "  <thead>\n",
       "    <tr style=\"text-align: right;\">\n",
       "      <th></th>\n",
       "      <th>item_id</th>\n",
       "      <th>user_id</th>\n",
       "      <th>sentiment_analysis</th>\n",
       "      <th>recommend</th>\n",
       "      <th>app_name</th>\n",
       "      <th>rating</th>\n",
       "    </tr>\n",
       "  </thead>\n",
       "  <tbody>\n",
       "    <tr>\n",
       "      <th>0</th>\n",
       "      <td>1250</td>\n",
       "      <td>76561197970982479</td>\n",
       "      <td>2</td>\n",
       "      <td>1</td>\n",
       "      <td>Killing Floor</td>\n",
       "      <td>5.0</td>\n",
       "    </tr>\n",
       "    <tr>\n",
       "      <th>1</th>\n",
       "      <td>1250</td>\n",
       "      <td>death-hunter</td>\n",
       "      <td>2</td>\n",
       "      <td>1</td>\n",
       "      <td>Killing Floor</td>\n",
       "      <td>5.0</td>\n",
       "    </tr>\n",
       "    <tr>\n",
       "      <th>2</th>\n",
       "      <td>1250</td>\n",
       "      <td>DJKamBer</td>\n",
       "      <td>0</td>\n",
       "      <td>1</td>\n",
       "      <td>Killing Floor</td>\n",
       "      <td>1.0</td>\n",
       "    </tr>\n",
       "    <tr>\n",
       "      <th>3</th>\n",
       "      <td>1250</td>\n",
       "      <td>diego9031</td>\n",
       "      <td>1</td>\n",
       "      <td>1</td>\n",
       "      <td>Killing Floor</td>\n",
       "      <td>3.0</td>\n",
       "    </tr>\n",
       "    <tr>\n",
       "      <th>4</th>\n",
       "      <td>1250</td>\n",
       "      <td>76561198081962345</td>\n",
       "      <td>1</td>\n",
       "      <td>1</td>\n",
       "      <td>Killing Floor</td>\n",
       "      <td>3.0</td>\n",
       "    </tr>\n",
       "    <tr>\n",
       "      <th>...</th>\n",
       "      <td>...</td>\n",
       "      <td>...</td>\n",
       "      <td>...</td>\n",
       "      <td>...</td>\n",
       "      <td>...</td>\n",
       "      <td>...</td>\n",
       "    </tr>\n",
       "    <tr>\n",
       "      <th>44734</th>\n",
       "      <td>367780</td>\n",
       "      <td>laislabonita75</td>\n",
       "      <td>2</td>\n",
       "      <td>1</td>\n",
       "      <td>Aero's Quest</td>\n",
       "      <td>5.0</td>\n",
       "    </tr>\n",
       "    <tr>\n",
       "      <th>44735</th>\n",
       "      <td>367780</td>\n",
       "      <td>evilindiegaming</td>\n",
       "      <td>2</td>\n",
       "      <td>1</td>\n",
       "      <td>Aero's Quest</td>\n",
       "      <td>5.0</td>\n",
       "    </tr>\n",
       "    <tr>\n",
       "      <th>44736</th>\n",
       "      <td>305920</td>\n",
       "      <td>laislabonita75</td>\n",
       "      <td>0</td>\n",
       "      <td>0</td>\n",
       "      <td>Another Perspective</td>\n",
       "      <td>0.0</td>\n",
       "    </tr>\n",
       "    <tr>\n",
       "      <th>44737</th>\n",
       "      <td>306040</td>\n",
       "      <td>Gamer0009</td>\n",
       "      <td>2</td>\n",
       "      <td>1</td>\n",
       "      <td>The Howler</td>\n",
       "      <td>5.0</td>\n",
       "    </tr>\n",
       "    <tr>\n",
       "      <th>44738</th>\n",
       "      <td>307130</td>\n",
       "      <td>llDracuwulf</td>\n",
       "      <td>2</td>\n",
       "      <td>1</td>\n",
       "      <td>Asteria</td>\n",
       "      <td>5.0</td>\n",
       "    </tr>\n",
       "  </tbody>\n",
       "</table>\n",
       "<p>44739 rows × 6 columns</p>\n",
       "</div>"
      ],
      "text/plain": [
       "       item_id            user_id  sentiment_analysis  recommend  \\\n",
       "0         1250  76561197970982479                   2          1   \n",
       "1         1250       death-hunter                   2          1   \n",
       "2         1250           DJKamBer                   0          1   \n",
       "3         1250          diego9031                   1          1   \n",
       "4         1250  76561198081962345                   1          1   \n",
       "...        ...                ...                 ...        ...   \n",
       "44734   367780     laislabonita75                   2          1   \n",
       "44735   367780    evilindiegaming                   2          1   \n",
       "44736   305920     laislabonita75                   0          0   \n",
       "44737   306040          Gamer0009                   2          1   \n",
       "44738   307130        llDracuwulf                   2          1   \n",
       "\n",
       "                  app_name  rating  \n",
       "0            Killing Floor     5.0  \n",
       "1            Killing Floor     5.0  \n",
       "2            Killing Floor     1.0  \n",
       "3            Killing Floor     3.0  \n",
       "4            Killing Floor     3.0  \n",
       "...                    ...     ...  \n",
       "44734         Aero's Quest     5.0  \n",
       "44735         Aero's Quest     5.0  \n",
       "44736  Another Perspective     0.0  \n",
       "44737           The Howler     5.0  \n",
       "44738              Asteria     5.0  \n",
       "\n",
       "[44739 rows x 6 columns]"
      ]
     },
     "execution_count": 11,
     "metadata": {},
     "output_type": "execute_result"
    }
   ],
   "source": [
    "new_df"
   ]
  },
  {
   "cell_type": "code",
   "execution_count": 12,
   "metadata": {},
   "outputs": [
    {
     "data": {
      "text/html": [
       "<div>\n",
       "<style scoped>\n",
       "    .dataframe tbody tr th:only-of-type {\n",
       "        vertical-align: middle;\n",
       "    }\n",
       "\n",
       "    .dataframe tbody tr th {\n",
       "        vertical-align: top;\n",
       "    }\n",
       "\n",
       "    .dataframe thead th {\n",
       "        text-align: right;\n",
       "    }\n",
       "</style>\n",
       "<table border=\"1\" class=\"dataframe\">\n",
       "  <thead>\n",
       "    <tr style=\"text-align: right;\">\n",
       "      <th></th>\n",
       "      <th>item_id</th>\n",
       "      <th>user_id</th>\n",
       "      <th>sentiment_analysis</th>\n",
       "      <th>recommend</th>\n",
       "      <th>app_name</th>\n",
       "      <th>rating</th>\n",
       "    </tr>\n",
       "  </thead>\n",
       "  <tbody>\n",
       "    <tr>\n",
       "      <th>1</th>\n",
       "      <td>1250</td>\n",
       "      <td>death-hunter</td>\n",
       "      <td>2</td>\n",
       "      <td>1</td>\n",
       "      <td>Killing Floor</td>\n",
       "      <td>5.0</td>\n",
       "    </tr>\n",
       "    <tr>\n",
       "      <th>9812</th>\n",
       "      <td>4000</td>\n",
       "      <td>death-hunter</td>\n",
       "      <td>2</td>\n",
       "      <td>1</td>\n",
       "      <td>Garry's Mod</td>\n",
       "      <td>5.0</td>\n",
       "    </tr>\n",
       "    <tr>\n",
       "      <th>11464</th>\n",
       "      <td>232090</td>\n",
       "      <td>death-hunter</td>\n",
       "      <td>2</td>\n",
       "      <td>1</td>\n",
       "      <td>Killing Floor 2</td>\n",
       "      <td>5.0</td>\n",
       "    </tr>\n",
       "  </tbody>\n",
       "</table>\n",
       "</div>"
      ],
      "text/plain": [
       "       item_id       user_id  sentiment_analysis  recommend         app_name  \\\n",
       "1         1250  death-hunter                   2          1    Killing Floor   \n",
       "9812      4000  death-hunter                   2          1      Garry's Mod   \n",
       "11464   232090  death-hunter                   2          1  Killing Floor 2   \n",
       "\n",
       "       rating  \n",
       "1         5.0  \n",
       "9812      5.0  \n",
       "11464     5.0  "
      ]
     },
     "execution_count": 12,
     "metadata": {},
     "output_type": "execute_result"
    }
   ],
   "source": [
    "resultados = new_df[new_df['user_id'] == 'death-hunter']\n",
    "resultados"
   ]
  },
  {
   "cell_type": "code",
   "execution_count": 13,
   "metadata": {},
   "outputs": [],
   "source": [
    "reader = Reader(rating_scale=(0, 5))  # Adaptar rating_scale a tus datos"
   ]
  },
  {
   "cell_type": "code",
   "execution_count": 14,
   "metadata": {},
   "outputs": [],
   "source": [
    "data = Dataset.load_from_df(new_df[['user_id', 'item_id', 'rating']], reader)"
   ]
  },
  {
   "cell_type": "code",
   "execution_count": 15,
   "metadata": {},
   "outputs": [],
   "source": [
    "#Dividir el conjunto de datos en entrenamiento y prueba\n",
    "trainset, testset = train_test_split(data, test_size=0.2)  # Puedes ajustar el tamaño de prueba"
   ]
  },
  {
   "cell_type": "code",
   "execution_count": 16,
   "metadata": {},
   "outputs": [
    {
     "name": "stdout",
     "output_type": "stream",
     "text": [
      "1\n",
      "Evaluating RMSE of algorithm SVD on 3 split(s).\n",
      "\n",
      "                  Fold 1  Fold 2  Fold 3  Mean    Std     \n",
      "RMSE (testset)    1.5604  1.5550  1.5503  1.5552  0.0041  \n",
      "Fit time          0.19    0.18    0.20    0.19    0.01    \n",
      "Test time         0.08    0.07    0.12    0.09    0.02    \n",
      "2\n",
      "Evaluating RMSE of algorithm SVD on 3 split(s).\n",
      "\n",
      "                  Fold 1  Fold 2  Fold 3  Mean    Std     \n",
      "RMSE (testset)    1.5570  1.5542  1.5546  1.5553  0.0012  \n",
      "Fit time          0.18    0.18    0.22    0.19    0.02    \n",
      "Test time         0.09    0.07    0.08    0.08    0.01    \n",
      "4\n",
      "Evaluating RMSE of algorithm SVD on 3 split(s).\n",
      "\n",
      "                  Fold 1  Fold 2  Fold 3  Mean    Std     \n",
      "RMSE (testset)    1.5481  1.5656  1.5589  1.5575  0.0072  \n",
      "Fit time          0.27    0.19    0.22    0.23    0.03    \n",
      "Test time         0.22    0.10    0.17    0.16    0.05    \n",
      "8\n",
      "Evaluating RMSE of algorithm SVD on 3 split(s).\n",
      "\n",
      "                  Fold 1  Fold 2  Fold 3  Mean    Std     \n",
      "RMSE (testset)    1.5644  1.5488  1.5622  1.5585  0.0069  \n",
      "Fit time          0.21    0.20    0.23    0.21    0.01    \n",
      "Test time         0.09    0.17    0.08    0.11    0.04    \n",
      "16\n",
      "Evaluating RMSE of algorithm SVD on 3 split(s).\n",
      "\n",
      "                  Fold 1  Fold 2  Fold 3  Mean    Std     \n",
      "RMSE (testset)    1.5637  1.5561  1.5581  1.5593  0.0032  \n",
      "Fit time          0.23    0.23    0.31    0.26    0.04    \n",
      "Test time         0.09    0.08    0.10    0.09    0.01    \n",
      "32\n",
      "Evaluating RMSE of algorithm SVD on 3 split(s).\n",
      "\n",
      "                  Fold 1  Fold 2  Fold 3  Mean    Std     \n",
      "RMSE (testset)    1.5642  1.5610  1.5590  1.5614  0.0022  \n",
      "Fit time          0.36    0.31    0.38    0.35    0.03    \n",
      "Test time         0.10    0.12    0.08    0.10    0.01    \n",
      "64\n",
      "Evaluating RMSE of algorithm SVD on 3 split(s).\n",
      "\n",
      "                  Fold 1  Fold 2  Fold 3  Mean    Std     \n",
      "RMSE (testset)    1.5572  1.5654  1.5589  1.5605  0.0036  \n",
      "Fit time          0.45    0.44    0.42    0.44    0.01    \n",
      "Test time         0.09    0.10    0.08    0.09    0.01    \n",
      "128\n",
      "Evaluating RMSE of algorithm SVD on 3 split(s).\n",
      "\n",
      "                  Fold 1  Fold 2  Fold 3  Mean    Std     \n",
      "RMSE (testset)    1.5520  1.5612  1.5711  1.5614  0.0078  \n",
      "Fit time          0.75    0.67    0.60    0.67    0.06    \n",
      "Test time         0.08    0.12    0.09    0.10    0.02    \n",
      "256\n",
      "Evaluating RMSE of algorithm SVD on 3 split(s).\n",
      "\n",
      "                  Fold 1  Fold 2  Fold 3  Mean    Std     \n",
      "RMSE (testset)    1.5560  1.5701  1.5548  1.5603  0.0070  \n",
      "Fit time          0.99    0.91    0.90    0.93    0.04    \n",
      "Test time         0.09    0.08    0.09    0.09    0.01    \n"
     ]
    }
   ],
   "source": [
    "#optimizacion de hiperparametros \n",
    "from surprise.model_selection import cross_validate\n",
    "\n",
    "rmse_test_means = []\n",
    "factores = [1,2,4,8,16,32,64,128,256]\n",
    "\n",
    "for factor in factores:\n",
    "    print(factor)\n",
    "    model = SVD(n_factors=factor)\n",
    "    cv = cross_validate(model, data, measures=['RMSE'], cv = 3, verbose=True)\n",
    "    rmse_test_means.append(np.mean(cv['test_rmse']))"
   ]
  },
  {
   "cell_type": "code",
   "execution_count": 17,
   "metadata": {},
   "outputs": [],
   "source": [
    "from surprise.model_selection import GridSearchCV\n",
    "\n",
    "param_grid = {'n_factors': [5,50,100],'n_epochs': [5, 10,20], 'lr_all': [0.001, 0.002, 0.005],\n",
    "              'reg_all': [0.002, 0.02, 0.2]}\n",
    "gs = GridSearchCV(SVD, param_grid, measures=['rmse'], cv=3, n_jobs = -1)\n",
    "gs.fit(data)"
   ]
  },
  {
   "cell_type": "code",
   "execution_count": 18,
   "metadata": {},
   "outputs": [
    {
     "name": "stdout",
     "output_type": "stream",
     "text": [
      "1.5524090410729185\n",
      "{'n_factors': 50, 'n_epochs': 20, 'lr_all': 0.005, 'reg_all': 0.2}\n"
     ]
    }
   ],
   "source": [
    "print(gs.best_score['rmse'])\n",
    "print(gs.best_params['rmse'])"
   ]
  },
  {
   "cell_type": "code",
   "execution_count": 19,
   "metadata": {},
   "outputs": [],
   "source": [
    "best_model=gs.best_params"
   ]
  },
  {
   "cell_type": "code",
   "execution_count": 20,
   "metadata": {},
   "outputs": [
    {
     "data": {
      "text/plain": [
       "<surprise.prediction_algorithms.matrix_factorization.SVD at 0x21a85752890>"
      ]
     },
     "execution_count": 20,
     "metadata": {},
     "output_type": "execute_result"
    }
   ],
   "source": [
    "#Seleccionar un algoritmo (por ejemplo, SVD) y entrenar el modelo\n",
    "model = SVD(n_factors=100, n_epochs=20, lr_all=0.005, reg_all=0.2)\n",
    "model.fit(trainset)"
   ]
  },
  {
   "cell_type": "code",
   "execution_count": 22,
   "metadata": {},
   "outputs": [],
   "source": [
    "with open('modelo.pkl', 'wb') as archivo:\n",
    "    pickle.dump(model, archivo)"
   ]
  },
  {
   "cell_type": "code",
   "execution_count": 23,
   "metadata": {},
   "outputs": [],
   "source": [
    "with open ('modelo.pkl', 'rb') as archivo:\n",
    "    modelo = pickle.load(archivo)\n"
   ]
  },
  {
   "cell_type": "code",
   "execution_count": 24,
   "metadata": {},
   "outputs": [
    {
     "name": "stdout",
     "output_type": "stream",
     "text": [
      "<surprise.prediction_algorithms.matrix_factorization.SVD object at 0x0000021A815422D0>\n"
     ]
    }
   ],
   "source": [
    "print(modelo)"
   ]
  },
  {
   "cell_type": "code",
   "execution_count": 79,
   "metadata": {},
   "outputs": [],
   "source": [
    "def recomendacion_usuario( id_usuario ):\n",
    "    #ID del usuario para el cual quieres obtener recomendaciones\n",
    "    usuario_especifico = id_usuario  # Reemplaza 'js41637' con el ID del usuario para el que quieres las recomendaciones\n",
    "\n",
    "    #Crear una lista de juegos ya valorados por el usuario específico\n",
    "    juegos_valorados = merged_df[merged_df['user_id'] == usuario_especifico]['app_name'].unique()\n",
    "\n",
    "    #Crear una lista de todos los juegos disponibles\n",
    "    todos_los_juegos = merged_df['app_name'].unique()\n",
    "\n",
    "    #Crear una lista de juegos no valorados por el usuario específico\n",
    "    juegos_no_valorados = list(set(todos_los_juegos) - set(juegos_valorados))\n",
    "\n",
    "    #Generar predicciones para los juegos no valorados por el usuario\n",
    "    predicciones = [model.predict(usuario_especifico, juego) for juego in juegos_no_valorados]\n",
    "\n",
    "    #Ordenar las predicciones en base a la valoración y obtener los juegos recomendados\n",
    "    recomendaciones = sorted(predicciones, key=lambda x: x.est, reverse=True)[:5]  # Obtener las 5 mejores recomendaciones\n",
    "\n",
    "    #Mostrar los juegos recomendados\n",
    "   \n",
    "    lista=list()\n",
    "    for recomendacion in recomendaciones:\n",
    "        lista.append(recomendacion.iid)\n",
    "    return f'Juego1: {lista[0]}, Juego2: {lista[1]}, Juego3: {lista[2]}, Juego4: {lista[3]}, Juego5: {lista[4]}'\n",
    "    "
   ]
  },
  {
   "cell_type": "code",
   "execution_count": 80,
   "metadata": {},
   "outputs": [
    {
     "data": {
      "text/plain": [
       "'Juego1: Thief™ Gold, Juego2: The Dream Machine: Chapter 1 & 2, Juego3: Heroes of Might & Magic V, Juego4: S.T.A.L.K.E.R.: Shadow of Chernobyl, Juego5: Splice'"
      ]
     },
     "execution_count": 80,
     "metadata": {},
     "output_type": "execute_result"
    }
   ],
   "source": [
    "recomendacion_usuario('death-hunter')"
   ]
  },
  {
   "cell_type": "code",
   "execution_count": 84,
   "metadata": {},
   "outputs": [
    {
     "name": "stdout",
     "output_type": "stream",
     "text": [
      "RMSE: 1.5526\n",
      "Juego: Thief™ Gold, Valoración estimada: 3.899197787482235\n",
      "Juego: The Dream Machine: Chapter 1 & 2, Valoración estimada: 3.899197787482235\n",
      "Juego: Heroes of Might & Magic V, Valoración estimada: 3.899197787482235\n",
      "Juego: S.T.A.L.K.E.R.: Shadow of Chernobyl, Valoración estimada: 3.899197787482235\n",
      "Juego: Splice, Valoración estimada: 3.899197787482235\n"
     ]
    }
   ],
   "source": [
    "#model.fit(trainset)\n",
    "\n",
    "#Realizar predicciones en el conjunto de prueba\n",
    "predictions = model.test(testset)\n",
    "\n",
    "    #Evaluar las predicciones\n",
    "accuracy.rmse(predictions)\n",
    "    #ID del usuario para el cual quieres obtener recomendaciones\n",
    "usuario_especifico = \"JunG00berfuckingsucks\"  # Reemplaza 'js41637' con el ID del usuario para el que quieres las recomendaciones\n",
    "\n",
    "    #Crear una lista de juegos ya valorados por el usuario específico\n",
    "juegos_valorados = merged_df[merged_df['user_id'] == usuario_especifico]['app_name'].unique()\n",
    "\n",
    "    #Crear una lista de todos los juegos disponibles\n",
    "todos_los_juegos = merged_df['app_name'].unique()\n",
    "\n",
    "    #Crear una lista de juegos no valorados por el usuario específico\n",
    "juegos_no_valorados = list(set(todos_los_juegos) - set(juegos_valorados))\n",
    "\n",
    "    #Generar predicciones para los juegos no valorados por el usuario\n",
    "predicciones = [model.predict(usuario_especifico, juego) for juego in juegos_no_valorados]\n",
    "\n",
    "    #Ordenar las predicciones en base a la valoración y obtener los juegos recomendados\n",
    "recomendaciones = sorted(predicciones, key=lambda x: x.est, reverse=True)[:5]  # Obtener las 5 mejores recomendaciones\n",
    "\n",
    "    #Mostrar los juegos recomendados\n",
    "for recomendacion in recomendaciones:\n",
    "    print (f\"Juego: {recomendacion.iid}, Valoración estimada: {recomendacion.est}\")\n",
    " "
   ]
  },
  {
   "cell_type": "code",
   "execution_count": 85,
   "metadata": {},
   "outputs": [
    {
     "data": {
      "text/plain": [
       "'Juego1: Thief™ Gold, Juego2: The Dream Machine: Chapter 1 & 2, Juego3: Heroes of Might & Magic V, Juego4: S.T.A.L.K.E.R.: Shadow of Chernobyl, Juego5: Splice'"
      ]
     },
     "execution_count": 85,
     "metadata": {},
     "output_type": "execute_result"
    }
   ],
   "source": [
    "recomendacion_usuario('death-hunter')"
   ]
  },
  {
   "cell_type": "code",
   "execution_count": 87,
   "metadata": {},
   "outputs": [
    {
     "data": {
      "text/plain": [
       "'Juego1: Thief™ Gold, Juego2: The Dream Machine: Chapter 1 & 2, Juego3: Heroes of Might & Magic V, Juego4: S.T.A.L.K.E.R.: Shadow of Chernobyl, Juego5: Splice'"
      ]
     },
     "execution_count": 87,
     "metadata": {},
     "output_type": "execute_result"
    }
   ],
   "source": [
    "recomendacion_usuario('Gamer0009')"
   ]
  }
 ],
 "metadata": {
  "kernelspec": {
   "display_name": "datascience",
   "language": "python",
   "name": "python3"
  },
  "language_info": {
   "codemirror_mode": {
    "name": "ipython",
    "version": 3
   },
   "file_extension": ".py",
   "mimetype": "text/x-python",
   "name": "python",
   "nbconvert_exporter": "python",
   "pygments_lexer": "ipython3",
   "version": "3.11.5"
  }
 },
 "nbformat": 4,
 "nbformat_minor": 2
}
